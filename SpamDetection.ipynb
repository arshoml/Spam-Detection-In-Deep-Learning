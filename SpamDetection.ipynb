{
 "cells": [
  {
   "cell_type": "code",
   "execution_count": 1,
   "id": "2450b151",
   "metadata": {},
   "outputs": [
    {
     "data": {
      "text/html": [
       "<div>\n",
       "<style scoped>\n",
       "    .dataframe tbody tr th:only-of-type {\n",
       "        vertical-align: middle;\n",
       "    }\n",
       "\n",
       "    .dataframe tbody tr th {\n",
       "        vertical-align: top;\n",
       "    }\n",
       "\n",
       "    .dataframe thead th {\n",
       "        text-align: right;\n",
       "    }\n",
       "</style>\n",
       "<table border=\"1\" class=\"dataframe\">\n",
       "  <thead>\n",
       "    <tr style=\"text-align: right;\">\n",
       "      <th></th>\n",
       "      <th>text</th>\n",
       "      <th>label</th>\n",
       "    </tr>\n",
       "  </thead>\n",
       "  <tbody>\n",
       "    <tr>\n",
       "      <th>0</th>\n",
       "      <td>NaN</td>\n",
       "      <td>ham</td>\n",
       "    </tr>\n",
       "    <tr>\n",
       "      <th>1</th>\n",
       "      <td>gary , production from the high island larger ...</td>\n",
       "      <td>ham</td>\n",
       "    </tr>\n",
       "    <tr>\n",
       "      <th>2</th>\n",
       "      <td>- calpine daily gas nomination 1 . doc</td>\n",
       "      <td>ham</td>\n",
       "    </tr>\n",
       "    <tr>\n",
       "      <th>3</th>\n",
       "      <td>fyi - see note below - already done .\\nstella\\...</td>\n",
       "      <td>ham</td>\n",
       "    </tr>\n",
       "    <tr>\n",
       "      <th>4</th>\n",
       "      <td>fyi .\\n- - - - - - - - - - - - - - - - - - - -...</td>\n",
       "      <td>ham</td>\n",
       "    </tr>\n",
       "  </tbody>\n",
       "</table>\n",
       "</div>"
      ],
      "text/plain": [
       "                                                text label\n",
       "0                                                NaN   ham\n",
       "1  gary , production from the high island larger ...   ham\n",
       "2             - calpine daily gas nomination 1 . doc   ham\n",
       "3  fyi - see note below - already done .\\nstella\\...   ham\n",
       "4  fyi .\\n- - - - - - - - - - - - - - - - - - - -...   ham"
      ]
     },
     "execution_count": 1,
     "metadata": {},
     "output_type": "execute_result"
    }
   ],
   "source": [
    "from sklearn.feature_extraction.text import TfidfVectorizer\n",
    "from imblearn.under_sampling import RandomUnderSampler\n",
    "from torch.utils.data import TensorDataset\n",
    "from torch.utils.data import DataLoader\n",
    "from nltk.tokenize import word_tokenize\n",
    "from nltk.stem import PorterStemmer\n",
    "from nltk.corpus import stopwords\n",
    "from torch import nn, optim\n",
    "import pandas as pd\n",
    "import pickle\n",
    "import torch\n",
    "import nltk\n",
    "\n",
    "device = 'cuda' if torch.cuda.is_available() else 'cpu'\n",
    "\n",
    "df = pd.read_csv('C:/Users/Arsh/Downloads/enron_spam_data.csv', usecols=[2, 3], names=['text', 'label'], skiprows=1)\n",
    "\n",
    "stemmer = PorterStemmer()\n",
    "stop_words = set(stopwords.words('english'))\n",
    "\n",
    "df.head()"
   ]
  },
  {
   "cell_type": "code",
   "execution_count": 2,
   "id": "34aa4836",
   "metadata": {},
   "outputs": [
    {
     "data": {
      "text/plain": [
       "1    17171\n",
       "0    16545\n",
       "Name: label, dtype: int64"
      ]
     },
     "execution_count": 2,
     "metadata": {},
     "output_type": "execute_result"
    }
   ],
   "source": [
    "df['label'] = df['label'].map({'ham': 0, 'spam': 1})\n",
    "\n",
    "df['label'].value_counts()"
   ]
  },
  {
   "cell_type": "code",
   "execution_count": 3,
   "id": "11ff8ba2",
   "metadata": {},
   "outputs": [
    {
     "data": {
      "text/plain": [
       "text     371\n",
       "label      0\n",
       "dtype: int64"
      ]
     },
     "execution_count": 3,
     "metadata": {},
     "output_type": "execute_result"
    }
   ],
   "source": [
    "df.isnull().sum()"
   ]
  },
  {
   "cell_type": "code",
   "execution_count": 4,
   "id": "97a3f26f",
   "metadata": {},
   "outputs": [
    {
     "data": {
      "text/plain": [
       "3565"
      ]
     },
     "execution_count": 4,
     "metadata": {},
     "output_type": "execute_result"
    }
   ],
   "source": [
    "df.dropna(inplace=True)\n",
    "\n",
    "df.duplicated().sum()"
   ]
  },
  {
   "cell_type": "code",
   "execution_count": 5,
   "id": "11dfa48c",
   "metadata": {},
   "outputs": [],
   "source": [
    "df.drop_duplicates(inplace=True)\n",
    "\n",
    "df.reset_index(drop=True, inplace=True)"
   ]
  },
  {
   "cell_type": "code",
   "execution_count": 6,
   "id": "36ebe9a4",
   "metadata": {},
   "outputs": [],
   "source": [
    "df['text'] = df['text'].apply(lambda x: x.lower())\n",
    "df['text'] = df['text'].apply(lambda x: word_tokenize(x))\n",
    "df['text'] = df['text'].apply(lambda x: [y for y in x if not y in stop_words])\n",
    "df['text'] = df['text'].apply(lambda x: [stemmer.stem(y) for y in x])\n",
    "df['text'] = df['text'].apply(lambda x: [y for y in x if y.isalpha()])\n",
    "df['text'] = df['text'].apply(lambda x: ' '.join(x))"
   ]
  },
  {
   "cell_type": "code",
   "execution_count": 7,
   "id": "8a49ac32",
   "metadata": {},
   "outputs": [
    {
     "data": {
      "text/plain": [
       "0    13987\n",
       "1    13987\n",
       "Name: label, dtype: int64"
      ]
     },
     "execution_count": 7,
     "metadata": {},
     "output_type": "execute_result"
    }
   ],
   "source": [
    "tfidf = TfidfVectorizer()\n",
    "\n",
    "tfidf.fit(df['text'])\n",
    "\n",
    "X = tfidf.transform(df['text'])\n",
    "y = df['label']\n",
    "\n",
    "X_train, y_train = RandomUnderSampler().fit_resample(X, y)\n",
    "\n",
    "y_train.value_counts()"
   ]
  },
  {
   "cell_type": "code",
   "execution_count": 8,
   "id": "4343b419",
   "metadata": {},
   "outputs": [],
   "source": [
    "X_train = X_train.todense()\n",
    "\n",
    "X_train = torch.tensor(X_train, dtype=torch.float32)\n",
    "y_train = torch.tensor(y_train, dtype=torch.float32)\n",
    "\n",
    "dataset = TensorDataset(X_train, y_train)\n",
    "\n",
    "dataloader = DataLoader(dataset, batch_size=64)"
   ]
  },
  {
   "cell_type": "code",
   "execution_count": 9,
   "id": "9aff8cd2",
   "metadata": {},
   "outputs": [],
   "source": [
    "class SpamDetector(nn.Module):\n",
    "    def __init__(self):\n",
    "        super().__init__()\n",
    "        self.fc1 = nn.Linear(117022, 512)\n",
    "        self.fc2 = nn.Linear(512, 256)\n",
    "        self.fc3 = nn.Linear(256, 128)\n",
    "        self.fc4 = nn.Linear(128, 64)\n",
    "        self.fc5 = nn.Linear(64, 1)\n",
    "        self.sigmoid = nn.Sigmoid()\n",
    "\n",
    "    def forward(self, x):\n",
    "        x = self.fc1(x)\n",
    "        x = nn.ReLU()(x)\n",
    "        x = self.fc2(x)\n",
    "        x = nn.ReLU()(x)\n",
    "        x = self.fc3(x)\n",
    "        x = nn.ReLU()(x)\n",
    "        x = self.fc4(x)\n",
    "        x = nn.ReLU()(x)\n",
    "        x = self.fc5(x)\n",
    "        x = self.sigmoid(x)\n",
    "        return x\n",
    "\n",
    "model = SpamDetector().to(device)\n",
    "\n",
    "model.load_state_dict(torch.load('C:/Users/Arsh/Desktop/SpamDetection_Save_last.pth'))\n",
    "\n",
    "model.train()\n",
    "\n",
    "loss_function = nn.BCELoss()\n",
    "\n",
    "optimizer = optim.Adam(model.parameters(), lr=0.001)"
   ]
  },
  {
   "cell_type": "code",
   "execution_count": 10,
   "id": "55adb0a6",
   "metadata": {},
   "outputs": [
    {
     "name": "stdout",
     "output_type": "stream",
     "text": [
      "Epoch: 0, Loss: 3.576282665562758e-07\n",
      "Epoch: 1, Loss: 0.0\n",
      "Epoch: 2, Loss: 1.9868217293605994e-08\n",
      "Epoch: 3, Loss: 0.0\n",
      "Epoch: 4, Loss: 0.0\n"
     ]
    }
   ],
   "source": [
    "for epoch in range(5):\n",
    "    for (inputs, labels) in dataloader:\n",
    "        \n",
    "        inputs, labels = inputs.to(device), labels.to(device)\n",
    "        \n",
    "        optimizer.zero_grad()\n",
    "\n",
    "        outputs = model(inputs)\n",
    "\n",
    "        loss = loss_function(outputs, labels.unsqueeze(1))\n",
    "\n",
    "        loss.backward()\n",
    "\n",
    "        optimizer.step()\n",
    "\n",
    "    print(f\"Epoch: {epoch}, Loss: {loss.item()}\")\n",
    "    \n",
    "#     if epoch % 50 == 0:\n",
    "#         torch.save(model.state_dict(), f'C:/Users/Arsh/Desktop/SpamDetection_Save_{epoch}.pth')"
   ]
  },
  {
   "cell_type": "code",
   "execution_count": 11,
   "id": "11dc6a5f",
   "metadata": {},
   "outputs": [
    {
     "name": "stdout",
     "output_type": "stream",
     "text": [
      "Congratulations! You have won a free vacation to Hawaii! Click here to claim your prize. \n",
      "\n",
      "Prediction: Spam \n",
      " ---------------------------------------------------------------------------------------------------- \n",
      "\n",
      "I'm so sorry, but I won't be able to make it to dinner tonight. I have to work late. \n",
      "\n",
      "Prediction: Non-Spam \n",
      " ---------------------------------------------------------------------------------------------------- \n",
      "\n",
      "Your credit card has been declined. Please update your payment information immediately. \n",
      "\n",
      "Prediction: Spam \n",
      " ---------------------------------------------------------------------------------------------------- \n",
      "\n",
      "Can you please pick up some milk on your way home from work? \n",
      "\n",
      "Prediction: Non-Spam \n",
      " ---------------------------------------------------------------------------------------------------- \n",
      "\n",
      "You have been selected to receive a free sample of our new product. Click here to claim your gift. \n",
      "\n",
      "Prediction: Spam \n",
      " ---------------------------------------------------------------------------------------------------- \n",
      "\n",
      "I'm so excited for the new season of Game of Thrones! \n",
      "\n",
      "Prediction: Non-Spam \n",
      " ---------------------------------------------------------------------------------------------------- \n",
      "\n",
      "Stop ignoring our calls! We need to collect your outstanding balance. \n",
      "\n",
      "Prediction: Spam \n",
      " ---------------------------------------------------------------------------------------------------- \n",
      "\n",
      "I just got a new job! I'm so happy. \n",
      "\n",
      "Prediction: Non-Spam \n",
      " ---------------------------------------------------------------------------------------------------- \n",
      "\n",
      "Your computer has been infected with a virus. Click here to download our antivirus software. \n",
      "\n",
      "Prediction: Spam \n",
      " ---------------------------------------------------------------------------------------------------- \n",
      "\n",
      "I'm going to the doctor tomorrow. I'm not feeling well. \n",
      "\n",
      "Prediction: Non-Spam \n",
      " ---------------------------------------------------------------------------------------------------- \n",
      "\n",
      "Congratulations! You have won a free trip to the Bahamas. \n",
      "\n",
      "Prediction: Spam \n",
      " ---------------------------------------------------------------------------------------------------- \n",
      "\n",
      "Hi John, I hope you're doing well. Did you get a chance to look over the report I sent you earlier this week? \n",
      "\n",
      "Prediction: Non-Spam \n",
      " ---------------------------------------------------------------------------------------------------- \n",
      "\n",
      "Get rich quick! Invest in our amazing money-making scheme today. \n",
      "\n",
      "Prediction: Spam \n",
      " ---------------------------------------------------------------------------------------------------- \n",
      "\n",
      "Hey Sarah, what time are we meeting for lunch today? \n",
      "\n",
      "Prediction: Non-Spam \n",
      " ---------------------------------------------------------------------------------------------------- \n",
      "\n",
      "Act now and receive a special discount on our miracle weight-loss pills. \n",
      "\n",
      "Prediction: Spam \n",
      " ---------------------------------------------------------------------------------------------------- \n",
      "\n",
      "The weather is beautiful today, isn't it? I'm thinking of going for a walk in the park later. \n",
      "\n",
      "Prediction: Non-Spam \n",
      " ---------------------------------------------------------------------------------------------------- \n",
      "\n",
      "You have been selected to participate in a once-in-a-lifetime opportunity to earn millions of dollars. \n",
      "\n",
      "Prediction: Spam \n",
      " ---------------------------------------------------------------------------------------------------- \n",
      "\n",
      "Thank you for your email. I appreciate your prompt response. \n",
      "\n",
      "Prediction: Non-Spam \n",
      " ---------------------------------------------------------------------------------------------------- \n",
      "\n",
      "Click here to claim your prize and join the thousands of satisfied customers who have already benefited from our product. \n",
      "\n",
      "Prediction: Spam \n",
      " ---------------------------------------------------------------------------------------------------- \n",
      "\n",
      "Hi there, just wanted to remind you that our meeting is scheduled for tomorrow at 10am. \n",
      "\n",
      "Prediction: Non-Spam \n",
      " ---------------------------------------------------------------------------------------------------- \n",
      "\n"
     ]
    }
   ],
   "source": [
    "model.eval()\n",
    "\n",
    "my_text = ['Congratulations! You have won a free vacation to Hawaii! Click here to claim your prize.',\n",
    "           \"I'm so sorry, but I won't be able to make it to dinner tonight. I have to work late.\",\n",
    "           'Your credit card has been declined. Please update your payment information immediately.',\n",
    "           'Can you please pick up some milk on your way home from work?',\n",
    "           'You have been selected to receive a free sample of our new product. Click here to claim your gift.',\n",
    "           \"I'm so excited for the new season of Game of Thrones!\",\n",
    "           'Stop ignoring our calls! We need to collect your outstanding balance.',\n",
    "           \"I just got a new job! I'm so happy.\",\n",
    "          'Your computer has been infected with a virus. Click here to download our antivirus software.',\n",
    "          \"I'm going to the doctor tomorrow. I'm not feeling well.\",\n",
    "          \"Congratulations! You have won a free trip to the Bahamas.\",\n",
    "           \"Hi John, I hope you're doing well. Did you get a chance to look over the report I sent you earlier this week?\",\n",
    "          \"Get rich quick! Invest in our amazing money-making scheme today.\",\n",
    "           \"Hey Sarah, what time are we meeting for lunch today?\",\n",
    "          \"Act now and receive a special discount on our miracle weight-loss pills.\",\n",
    "           \"The weather is beautiful today, isn't it? I'm thinking of going for a walk in the park later.\",\n",
    "          \"You have been selected to participate in a once-in-a-lifetime opportunity to earn millions of dollars.\",\n",
    "           \"Thank you for your email. I appreciate your prompt response.\",\n",
    "          \"Click here to claim your prize and join the thousands of satisfied customers who have already benefited from our product.\",\n",
    "          \"Hi there, just wanted to remind you that our meeting is scheduled for tomorrow at 10am.\"]\n",
    "\n",
    "# with open('C:/Users/Arsh/Desktop/tfidf.pkl', 'rb') as f:\n",
    "#     tfidf = pickle.load(f)\n",
    "\n",
    "prediction = None\n",
    "\n",
    "for text in my_text:\n",
    "    text1 = text.lower()\n",
    "    text1 = word_tokenize(text1)\n",
    "    text1 = [i for i in text1 if not i in stop_words]\n",
    "    text1 = [stemmer.stem(i) for i in text1]\n",
    "    text1 = [i for i in text1 if i.isalpha()]\n",
    "    \n",
    "    print(text, '\\n')\n",
    "    \n",
    "    text1 = tfidf.transform([' '.join(text1)])\n",
    "\n",
    "    text1 = text1.todense()\n",
    "\n",
    "    text1 = torch.tensor(text1, dtype=torch.float32).to(device)\n",
    "    \n",
    "    with torch.no_grad():\n",
    "        pred = model(text1)\n",
    "        \n",
    "    if pred[0][0].item() > 0.5:\n",
    "        prediction = 'Spam'\n",
    "    else:\n",
    "        prediction = 'Non-Spam'\n",
    "\n",
    "    print('Prediction:', prediction, '\\n', 100 * '-', '\\n')"
   ]
  }
 ],
 "metadata": {
  "kernelspec": {
   "display_name": "Python 3 (ipykernel)",
   "language": "python",
   "name": "python3"
  },
  "language_info": {
   "codemirror_mode": {
    "name": "ipython",
    "version": 3
   },
   "file_extension": ".py",
   "mimetype": "text/x-python",
   "name": "python",
   "nbconvert_exporter": "python",
   "pygments_lexer": "ipython3",
   "version": "3.11.4"
  },
  "vp": {
   "vp_config_version": "1.0.0",
   "vp_menu_width": 273,
   "vp_note_display": false,
   "vp_note_width": 0,
   "vp_position": {
    "width": 278
   },
   "vp_section_display": false,
   "vp_signature": "VisualPython"
  }
 },
 "nbformat": 4,
 "nbformat_minor": 5
}
